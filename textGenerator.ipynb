{
 "cells": [
  {
   "cell_type": "code",
   "execution_count": 9,
   "metadata": {},
   "outputs": [],
   "source": [
    "# Включване на нужните библиотеки\n",
    "# Including libraries\n",
    "\n",
    "import random\n",
    "import sys\n",
    "import io\n",
    "import numpy as np\n",
    "from keras.models import model_from_json"
   ]
  },
  {
   "cell_type": "code",
   "execution_count": 10,
   "metadata": {},
   "outputs": [],
   "source": [
    "# Дефинираме нужни методи\n",
    "# Defining some useful methods\n",
    "\n",
    "def loadModel():\n",
    "    jsonFile = open('model/modelSmqx.json', 'r')\n",
    "    loadedModelJSON = jsonFile.read()\n",
    "    jsonFile.close()\n",
    "    model = model_from_json(loadedModelJSON)\n",
    "    model.load_weights(\"model/modelSmqx.h5\")\n",
    "    return model\n",
    "\n",
    "\n",
    "def loadText():\n",
    "    text = open(\"datasets/chalga.txt\").read().decode('utf-8')\n",
    "    chars = sorted(list(set(text)))\n",
    "    charIndices = dict((c, i) for i, c in enumerate(chars))\n",
    "    indicesChar = dict((i, c) for i, c in enumerate(chars))\n",
    "    return text, chars, charIndices, indicesChar"
   ]
  },
  {
   "cell_type": "code",
   "execution_count": 11,
   "metadata": {},
   "outputs": [],
   "source": [
    "# Зареждаме модела и някои променливи, които са нужни за неговата работа\n",
    "# Loading the model and some variables that are necessary for the model's work\n",
    "\n",
    "model = loadModel()\n",
    "text, chars, charIndices, indicesChar = loadText()\n",
    "chunkSize = 56"
   ]
  },
  {
   "cell_type": "code",
   "execution_count": 12,
   "metadata": {},
   "outputs": [
    {
     "name": "stdout",
     "output_type": "stream",
     "text": [
      "_________________________________________________________________\n",
      "Layer (type)                 Output Shape              Param #   \n",
      "=================================================================\n",
      "lstm_1 (LSTM)                (None, 148)               166352    \n",
      "_________________________________________________________________\n",
      "dense_1 (Dense)              (None, 132)               19668     \n",
      "_________________________________________________________________\n",
      "activation_1 (Activation)    (None, 132)               0         \n",
      "=================================================================\n",
      "Total params: 186,020\n",
      "Trainable params: 186,020\n",
      "Non-trainable params: 0\n",
      "_________________________________________________________________\n"
     ]
    }
   ],
   "source": [
    "# Поглед върху структурата на модела\n",
    "# Quick peek in the model's structure\n",
    "\n",
    "model.summary()"
   ]
  },
  {
   "cell_type": "code",
   "execution_count": 13,
   "metadata": {},
   "outputs": [],
   "source": [
    "# Дефинираме функцията \"sample\", която връща предсказание за следващ символ\n",
    "# Defining the function \"sample\" which is generating the probability of each next character\n",
    "\n",
    "\n",
    "# Вход: лист от всички символи; Изход: най-вероятния следващ символ\n",
    "# Input: list of all symbols; Output: the character with highest probability of being the next character\n",
    "\n",
    "def sample(preds):\n",
    "    preds = np.asarray(preds).astype('float64')\n",
    "    preds = np.log(preds)\n",
    "    exp_preds = np.exp(preds)\n",
    "    preds = exp_preds / np.sum(exp_preds)\n",
    "    probas = np.random.multinomial(1, preds, 1)\n",
    "    return np.argmax(probas)"
   ]
  },
  {
   "cell_type": "code",
   "execution_count": 14,
   "metadata": {},
   "outputs": [],
   "source": [
    "def generateText(startingText):\n",
    "    start_index = random.randint(0, len(text) - chunkSize - 1)\n",
    "    \n",
    "    generated = ''\n",
    "    sentence = text[start_index: start_index + chunkSize]\n",
    "        #text[start_index: start_index + chunkSize]\n",
    "        #startingText.decode('utf-8')\n",
    "    generated += sentence\n",
    "    \n",
    "    print(\"Generating text with seed: \\\"\" + sentence + '\"\\n')\n",
    "    sys.stdout.write(generated)\n",
    "\n",
    "    for i in range(400):\n",
    "        x_pred = np.zeros((1, chunkSize, len(chars)))\n",
    "        for t, char in enumerate(sentence):\n",
    "            x_pred[0, t, charIndices[char]] = 1.\n",
    "\n",
    "        preds = model.predict(x_pred, verbose=0)[0]\n",
    "        next_index = sample(preds)\n",
    "        next_char = indicesChar[next_index]\n",
    "\n",
    "        generated += next_char\n",
    "        sentence = sentence[1:] + next_char\n",
    "\n",
    "        sys.stdout.write(next_char)\n",
    "        sys.stdout.flush()\n",
    "    print()\n",
    "    print('\\n')"
   ]
  },
  {
   "cell_type": "code",
   "execution_count": 15,
   "metadata": {},
   "outputs": [
    {
     "name": "stdout",
     "output_type": "stream",
     "text": [
      "Generating text with seed: \"ш безброй жени, но си виновен, зная ще страдаш ти. Пак щ\"\n",
      "\n",
      "ш безброй жени, но си виновен, зная ще страдаш ти. Пак ще градиш ляна на сувсии само за мен нче. ясно, викти, кажи, щом ще повярвай морчя няма с твоите - плая за дени знам.\n",
      "Сялки дочи. Бох ускижая ли - правя кога ще с л-че. На мене - париш от доза край терка, тора рана! Слеловелна, всичко спишал, какво ми е е.  А. Ти ха гочи момче - колко става маза, ждах ме, ще стана антириш ня всичко ще гори да болтол.. жени, усествай, повтаряй на кой ли лоцита и мъж()\n",
      "\n",
      "\n"
     ]
    }
   ],
   "source": [
    "# Генериране на текст с начален примерен текст \n",
    "# Generate text with sample starting sentence \n",
    "\n",
    "generateText(\"Направи ме дива и щастлива, обичай ме\")"
   ]
  }
 ],
 "metadata": {
  "kernelspec": {
   "display_name": "Python 3",
   "language": "python",
   "name": "python3"
  },
  "language_info": {
   "codemirror_mode": {
    "name": "ipython",
    "version": 2
   },
   "file_extension": ".py",
   "mimetype": "text/x-python",
   "name": "python",
   "nbconvert_exporter": "python",
   "pygments_lexer": "ipython2",
   "version": "2.7.13+"
  }
 },
 "nbformat": 4,
 "nbformat_minor": 2
}
